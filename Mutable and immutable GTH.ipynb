{
 "cells": [
  {
   "cell_type": "code",
   "execution_count": 1,
   "id": "b0a4878e-3780-47d7-a44f-855928fd394e",
   "metadata": {},
   "outputs": [],
   "source": [
    "v = \"vinay\""
   ]
  },
  {
   "cell_type": "code",
   "execution_count": 5,
   "id": "7bb728a3-e6a8-4142-8348-a16837c9f5ea",
   "metadata": {},
   "outputs": [],
   "source": [
    "v1 = \"vinayverma\""
   ]
  },
  {
   "cell_type": "code",
   "execution_count": 6,
   "id": "23818d5d-c742-4e86-98d4-b2513741aeb8",
   "metadata": {},
   "outputs": [
    {
     "data": {
      "text/plain": [
       "str"
      ]
     },
     "execution_count": 6,
     "metadata": {},
     "output_type": "execute_result"
    }
   ],
   "source": [
    "type(v)"
   ]
  },
  {
   "cell_type": "code",
   "execution_count": 7,
   "id": "351113bb-b284-4f45-9e10-0669526fa66f",
   "metadata": {},
   "outputs": [
    {
     "data": {
      "text/plain": [
       "str"
      ]
     },
     "execution_count": 7,
     "metadata": {},
     "output_type": "execute_result"
    }
   ],
   "source": [
    "type(v1)"
   ]
  },
  {
   "cell_type": "code",
   "execution_count": 10,
   "id": "d123cbd9-d772-431c-9f82-3a1d0cb29300",
   "metadata": {},
   "outputs": [],
   "source": [
    "l = [2,3,4,5,6,\"vinay\", 3+7j, True , 34.56]"
   ]
  },
  {
   "cell_type": "code",
   "execution_count": 9,
   "id": "4688e5fc-621c-461f-9f6b-ace11f47f7ce",
   "metadata": {},
   "outputs": [
    {
     "data": {
      "text/plain": [
       "list"
      ]
     },
     "execution_count": 9,
     "metadata": {},
     "output_type": "execute_result"
    }
   ],
   "source": [
    "type(l)"
   ]
  },
  {
   "cell_type": "code",
   "execution_count": 11,
   "id": "49b5ce21-4a5f-4034-b1fd-b1efc2311d5c",
   "metadata": {},
   "outputs": [
    {
     "data": {
      "text/plain": [
       "'vinay'"
      ]
     },
     "execution_count": 11,
     "metadata": {},
     "output_type": "execute_result"
    }
   ],
   "source": [
    "v "
   ]
  },
  {
   "cell_type": "code",
   "execution_count": 13,
   "id": "9710db6a-e5f9-448f-b7a5-428354eef1f6",
   "metadata": {},
   "outputs": [
    {
     "data": {
      "text/plain": [
       "'v'"
      ]
     },
     "execution_count": 13,
     "metadata": {},
     "output_type": "execute_result"
    }
   ],
   "source": [
    "v[0]"
   ]
  },
  {
   "cell_type": "code",
   "execution_count": 14,
   "id": "8a294d83-53ba-49b5-af12-5a3fee52bdc2",
   "metadata": {},
   "outputs": [
    {
     "data": {
      "text/plain": [
       "'n'"
      ]
     },
     "execution_count": 14,
     "metadata": {},
     "output_type": "execute_result"
    }
   ],
   "source": [
    "v[2]"
   ]
  },
  {
   "cell_type": "code",
   "execution_count": 15,
   "id": "14e57954-f082-46bc-a6f9-4a7e40366d00",
   "metadata": {},
   "outputs": [
    {
     "data": {
      "text/plain": [
       "'y'"
      ]
     },
     "execution_count": 15,
     "metadata": {},
     "output_type": "execute_result"
    }
   ],
   "source": [
    "v[4]"
   ]
  },
  {
   "cell_type": "code",
   "execution_count": 16,
   "id": "c61a8b98-00f3-4a3c-bf1e-9f6319bc659b",
   "metadata": {},
   "outputs": [
    {
     "ename": "IndexError",
     "evalue": "string index out of range",
     "output_type": "error",
     "traceback": [
      "\u001b[0;31m---------------------------------------------------------------------------\u001b[0m",
      "\u001b[0;31mIndexError\u001b[0m                                Traceback (most recent call last)",
      "Cell \u001b[0;32mIn[16], line 1\u001b[0m\n\u001b[0;32m----> 1\u001b[0m \u001b[43mv\u001b[49m\u001b[43m[\u001b[49m\u001b[38;5;241;43m5\u001b[39;49m\u001b[43m]\u001b[49m\n",
      "\u001b[0;31mIndexError\u001b[0m: string index out of range"
     ]
    }
   ],
   "source": [
    "v[5]"
   ]
  },
  {
   "cell_type": "code",
   "execution_count": 17,
   "id": "c4b30e7c-26ec-4b0e-9181-e51d2519daa8",
   "metadata": {},
   "outputs": [
    {
     "data": {
      "text/plain": [
       "[2, 3, 4, 5, 6, 'vinay', (3+7j), True, 34.56]"
      ]
     },
     "execution_count": 17,
     "metadata": {},
     "output_type": "execute_result"
    }
   ],
   "source": [
    "l"
   ]
  },
  {
   "cell_type": "code",
   "execution_count": 18,
   "id": "51a27dd7-9d21-42b6-b05c-8c332e101374",
   "metadata": {},
   "outputs": [
    {
     "data": {
      "text/plain": [
       "34.56"
      ]
     },
     "execution_count": 18,
     "metadata": {},
     "output_type": "execute_result"
    }
   ],
   "source": [
    "l[8]"
   ]
  },
  {
   "cell_type": "code",
   "execution_count": 19,
   "id": "51223e4c-c6c0-456a-b3cc-c015f497319e",
   "metadata": {},
   "outputs": [
    {
     "data": {
      "text/plain": [
       "5"
      ]
     },
     "execution_count": 19,
     "metadata": {},
     "output_type": "execute_result"
    }
   ],
   "source": [
    "l[3]"
   ]
  },
  {
   "cell_type": "code",
   "execution_count": 20,
   "id": "82b44c88-303b-46e8-ad7a-2a104ccd06d4",
   "metadata": {},
   "outputs": [
    {
     "data": {
      "text/plain": [
       "[2, 3, 4, 5, 6, 'vinay', (3+7j), True, 34.56]"
      ]
     },
     "execution_count": 20,
     "metadata": {},
     "output_type": "execute_result"
    }
   ],
   "source": [
    "l"
   ]
  },
  {
   "cell_type": "code",
   "execution_count": 21,
   "id": "a6d5ee1d-a732-44fc-96f3-f095d5ba4842",
   "metadata": {},
   "outputs": [],
   "source": [
    "l[1] = 300"
   ]
  },
  {
   "cell_type": "code",
   "execution_count": 22,
   "id": "68142f4f-e4c1-4f80-8d12-6a88ab008ce4",
   "metadata": {},
   "outputs": [
    {
     "data": {
      "text/plain": [
       "[2, 300, 4, 5, 6, 'vinay', (3+7j), True, 34.56]"
      ]
     },
     "execution_count": 22,
     "metadata": {},
     "output_type": "execute_result"
    }
   ],
   "source": [
    "l"
   ]
  },
  {
   "cell_type": "code",
   "execution_count": 23,
   "id": "4356a955-eab2-4ee1-891f-9c20034e620e",
   "metadata": {},
   "outputs": [],
   "source": [
    "l[4] = 'pwskill'"
   ]
  },
  {
   "cell_type": "code",
   "execution_count": 24,
   "id": "fd27ab78-88c2-4cf8-9cb9-646921bdf26a",
   "metadata": {},
   "outputs": [
    {
     "data": {
      "text/plain": [
       "[2, 300, 4, 5, 'pwskill', 'vinay', (3+7j), True, 34.56]"
      ]
     },
     "execution_count": 24,
     "metadata": {},
     "output_type": "execute_result"
    }
   ],
   "source": [
    "l"
   ]
  },
  {
   "cell_type": "code",
   "execution_count": 26,
   "id": "800ac7be-15b3-43b1-8524-8646cfd91070",
   "metadata": {},
   "outputs": [
    {
     "ename": "TypeError",
     "evalue": "'str' object does not support item assignment",
     "output_type": "error",
     "traceback": [
      "\u001b[0;31m---------------------------------------------------------------------------\u001b[0m",
      "\u001b[0;31mTypeError\u001b[0m                                 Traceback (most recent call last)",
      "Cell \u001b[0;32mIn[26], line 1\u001b[0m\n\u001b[0;32m----> 1\u001b[0m \u001b[43mv\u001b[49m\u001b[43m[\u001b[49m\u001b[38;5;241;43m0\u001b[39;49m\u001b[43m]\u001b[49m \u001b[38;5;241m=\u001b[39m \u001b[38;5;124m'\u001b[39m\u001b[38;5;124m5\u001b[39m\u001b[38;5;124m'\u001b[39m\n",
      "\u001b[0;31mTypeError\u001b[0m: 'str' object does not support item assignment"
     ]
    }
   ],
   "source": [
    "v[0] = 5"
   ]
  },
  {
   "cell_type": "code",
   "execution_count": 27,
   "id": "a95730ec-2b01-4958-ad4f-3f47c899241d",
   "metadata": {},
   "outputs": [],
   "source": [
    "##string is immutable object and list is mutable object"
   ]
  },
  {
   "cell_type": "code",
   "execution_count": 28,
   "id": "be263061-d400-4748-8cc0-99c566d6798e",
   "metadata": {},
   "outputs": [],
   "source": [
    "v = \"vina\""
   ]
  },
  {
   "cell_type": "code",
   "execution_count": 29,
   "id": "75a069f3-5ea9-4a5f-bd2e-5d1f6f9057e4",
   "metadata": {},
   "outputs": [
    {
     "data": {
      "text/plain": [
       "'vina'"
      ]
     },
     "execution_count": 29,
     "metadata": {},
     "output_type": "execute_result"
    }
   ],
   "source": [
    "v"
   ]
  },
  {
   "cell_type": "code",
   "execution_count": null,
   "id": "4186b51f-1104-4598-b657-52ac85d11cd1",
   "metadata": {},
   "outputs": [],
   "source": []
  }
 ],
 "metadata": {
  "kernelspec": {
   "display_name": "Python 3 (ipykernel)",
   "language": "python",
   "name": "python3"
  },
  "language_info": {
   "codemirror_mode": {
    "name": "ipython",
    "version": 3
   },
   "file_extension": ".py",
   "mimetype": "text/x-python",
   "name": "python",
   "nbconvert_exporter": "python",
   "pygments_lexer": "ipython3",
   "version": "3.10.8"
  }
 },
 "nbformat": 4,
 "nbformat_minor": 5
}
