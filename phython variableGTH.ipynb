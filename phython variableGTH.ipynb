{
 "cells": [
  {
   "cell_type": "code",
   "execution_count": 1,
   "id": "334839a9-2877-4cf4-b1b6-6c21101f472b",
   "metadata": {},
   "outputs": [],
   "source": [
    "a = 1"
   ]
  },
  {
   "cell_type": "code",
   "execution_count": 2,
   "id": "e13aa6eb-6be6-4a72-b0df-d054d4ef7ada",
   "metadata": {},
   "outputs": [
    {
     "data": {
      "text/plain": [
       "1"
      ]
     },
     "execution_count": 2,
     "metadata": {},
     "output_type": "execute_result"
    }
   ],
   "source": [
    "a"
   ]
  },
  {
   "cell_type": "code",
   "execution_count": 3,
   "id": "0afd9e5d-245d-4d3b-89c0-bdbae78d0f41",
   "metadata": {},
   "outputs": [
    {
     "data": {
      "text/plain": [
       "int"
      ]
     },
     "execution_count": 3,
     "metadata": {},
     "output_type": "execute_result"
    }
   ],
   "source": [
    "type(a)"
   ]
  },
  {
   "cell_type": "code",
   "execution_count": 4,
   "id": "089e8bbf-8dbd-4768-baa6-afdc3722efe4",
   "metadata": {},
   "outputs": [],
   "source": [
    "b = \"vinay\""
   ]
  },
  {
   "cell_type": "code",
   "execution_count": 5,
   "id": "f9710f0a-d105-47f0-8e7d-f16995fa8370",
   "metadata": {},
   "outputs": [
    {
     "data": {
      "text/plain": [
       "str"
      ]
     },
     "execution_count": 5,
     "metadata": {},
     "output_type": "execute_result"
    }
   ],
   "source": [
    "type(b)"
   ]
  },
  {
   "cell_type": "code",
   "execution_count": 6,
   "id": "8fcfea7c-fb30-4948-b11b-97f880061479",
   "metadata": {},
   "outputs": [],
   "source": [
    "b = 'vinay'"
   ]
  },
  {
   "cell_type": "code",
   "execution_count": 7,
   "id": "5cdc4ca3-9411-482d-a81b-64b5dc9b1217",
   "metadata": {},
   "outputs": [
    {
     "data": {
      "text/plain": [
       "str"
      ]
     },
     "execution_count": 7,
     "metadata": {},
     "output_type": "execute_result"
    }
   ],
   "source": [
    "type(b)"
   ]
  },
  {
   "cell_type": "code",
   "execution_count": 8,
   "id": "fc41f90b-49a8-45d0-b258-c970e6070b31",
   "metadata": {},
   "outputs": [],
   "source": [
    "c = 45.67846"
   ]
  },
  {
   "cell_type": "code",
   "execution_count": 9,
   "id": "8f5298fc-d751-47b9-a698-006ec452ff66",
   "metadata": {},
   "outputs": [
    {
     "data": {
      "text/plain": [
       "float"
      ]
     },
     "execution_count": 9,
     "metadata": {},
     "output_type": "execute_result"
    }
   ],
   "source": [
    "type(c)"
   ]
  },
  {
   "cell_type": "code",
   "execution_count": 10,
   "id": "6514e037-cf34-4880-bd1f-9825cc676394",
   "metadata": {},
   "outputs": [],
   "source": [
    "vinay = 3556"
   ]
  },
  {
   "cell_type": "code",
   "execution_count": 11,
   "id": "49a98547-bead-42c5-9ae5-1d7a41e134f8",
   "metadata": {},
   "outputs": [
    {
     "data": {
      "text/plain": [
       "3556"
      ]
     },
     "execution_count": 11,
     "metadata": {},
     "output_type": "execute_result"
    }
   ],
   "source": [
    "vinay"
   ]
  },
  {
   "cell_type": "code",
   "execution_count": 12,
   "id": "f4ebd762-21c9-42dd-9026-eef8e273ae17",
   "metadata": {},
   "outputs": [
    {
     "data": {
      "text/plain": [
       "int"
      ]
     },
     "execution_count": 12,
     "metadata": {},
     "output_type": "execute_result"
    }
   ],
   "source": [
    "type(vinay)"
   ]
  },
  {
   "cell_type": "code",
   "execution_count": 13,
   "id": "49ca904d-d4b7-4330-b8d5-108665166320",
   "metadata": {},
   "outputs": [],
   "source": [
    "d = True"
   ]
  },
  {
   "cell_type": "code",
   "execution_count": 14,
   "id": "0ed43123-e77e-485f-a5b0-83adc50161d2",
   "metadata": {},
   "outputs": [
    {
     "data": {
      "text/plain": [
       "bool"
      ]
     },
     "execution_count": 14,
     "metadata": {},
     "output_type": "execute_result"
    }
   ],
   "source": [
    "type(d)"
   ]
  },
  {
   "cell_type": "code",
   "execution_count": 15,
   "id": "9d27bd2c-6c12-48aa-9eb2-d027fc9379f5",
   "metadata": {},
   "outputs": [],
   "source": [
    "e = False"
   ]
  },
  {
   "cell_type": "code",
   "execution_count": 16,
   "id": "041930ad-d123-48c3-a993-784c9c1a2895",
   "metadata": {},
   "outputs": [
    {
     "data": {
      "text/plain": [
       "bool"
      ]
     },
     "execution_count": 16,
     "metadata": {},
     "output_type": "execute_result"
    }
   ],
   "source": [
    "type(e)"
   ]
  },
  {
   "cell_type": "code",
   "execution_count": 17,
   "id": "c1791f24-19c8-4959-8731-2a7dee6c5811",
   "metadata": {},
   "outputs": [
    {
     "data": {
      "text/plain": [
       "1"
      ]
     },
     "execution_count": 17,
     "metadata": {},
     "output_type": "execute_result"
    }
   ],
   "source": [
    "True - False"
   ]
  },
  {
   "cell_type": "code",
   "execution_count": 18,
   "id": "b2e09319-2957-46c3-af3a-107efaec7a34",
   "metadata": {},
   "outputs": [
    {
     "data": {
      "text/plain": [
       "1"
      ]
     },
     "execution_count": 18,
     "metadata": {},
     "output_type": "execute_result"
    }
   ],
   "source": [
    "1-0"
   ]
  },
  {
   "cell_type": "code",
   "execution_count": 19,
   "id": "56f95564-864d-4b30-a7e8-110e9608c7d6",
   "metadata": {},
   "outputs": [
    {
     "data": {
      "text/plain": [
       "0"
      ]
     },
     "execution_count": 19,
     "metadata": {},
     "output_type": "execute_result"
    }
   ],
   "source": [
    "True * False"
   ]
  },
  {
   "cell_type": "code",
   "execution_count": 20,
   "id": "77586d9c-887f-4c41-8c1e-6cbf4bc0492c",
   "metadata": {},
   "outputs": [
    {
     "ename": "ZeroDivisionError",
     "evalue": "division by zero",
     "output_type": "error",
     "traceback": [
      "\u001b[0;31m---------------------------------------------------------------------------\u001b[0m",
      "\u001b[0;31mZeroDivisionError\u001b[0m                         Traceback (most recent call last)",
      "Cell \u001b[0;32mIn[20], line 1\u001b[0m\n\u001b[0;32m----> 1\u001b[0m \u001b[38;5;28;43;01mTrue\u001b[39;49;00m\u001b[38;5;241;43m/\u001b[39;49m\u001b[38;5;28;43;01mFalse\u001b[39;49;00m\n",
      "\u001b[0;31mZeroDivisionError\u001b[0m: division by zero"
     ]
    }
   ],
   "source": [
    "True/False"
   ]
  },
  {
   "cell_type": "code",
   "execution_count": 23,
   "id": "14d49b11-213a-456c-abc2-ad5977d1c002",
   "metadata": {},
   "outputs": [],
   "source": [
    "f = 5+4j"
   ]
  },
  {
   "cell_type": "code",
   "execution_count": 24,
   "id": "be868544-d63d-4b97-87e7-7f2c51d6a1c8",
   "metadata": {},
   "outputs": [
    {
     "data": {
      "text/plain": [
       "complex"
      ]
     },
     "execution_count": 24,
     "metadata": {},
     "output_type": "execute_result"
    }
   ],
   "source": [
    "type(f)"
   ]
  },
  {
   "cell_type": "code",
   "execution_count": 27,
   "id": "4a985d86-ec0e-405f-94f8-fff364619ea9",
   "metadata": {},
   "outputs": [],
   "source": [
    "e = 6+7j"
   ]
  },
  {
   "cell_type": "code",
   "execution_count": 28,
   "id": "236194f9-3ea8-46cf-82be-060e7e34c5a9",
   "metadata": {},
   "outputs": [
    {
     "data": {
      "text/plain": [
       "complex"
      ]
     },
     "execution_count": 28,
     "metadata": {},
     "output_type": "execute_result"
    }
   ],
   "source": [
    "type(e)"
   ]
  },
  {
   "cell_type": "code",
   "execution_count": 29,
   "id": "67e78be5-21fe-4b44-8f37-6dcb65024862",
   "metadata": {},
   "outputs": [
    {
     "ename": "SyntaxError",
     "evalue": "cannot assign to literal here. Maybe you meant '==' instead of '='? (217617900.py, line 1)",
     "output_type": "error",
     "traceback": [
      "\u001b[0;36m  Cell \u001b[0;32mIn[29], line 1\u001b[0;36m\u001b[0m\n\u001b[0;31m    345 = 5\u001b[0m\n\u001b[0m    ^\u001b[0m\n\u001b[0;31mSyntaxError\u001b[0m\u001b[0;31m:\u001b[0m cannot assign to literal here. Maybe you meant '==' instead of '='?\n"
     ]
    }
   ],
   "source": [
    "345 = 5"
   ]
  },
  {
   "cell_type": "code",
   "execution_count": 30,
   "id": "f515963f-ce4d-4ef5-878b-29f9fcc40596",
   "metadata": {},
   "outputs": [
    {
     "ename": "SyntaxError",
     "evalue": "invalid decimal literal (3445766998.py, line 1)",
     "output_type": "error",
     "traceback": [
      "\u001b[0;36m  Cell \u001b[0;32mIn[30], line 1\u001b[0;36m\u001b[0m\n\u001b[0;31m    45gh = 234\u001b[0m\n\u001b[0m     ^\u001b[0m\n\u001b[0;31mSyntaxError\u001b[0m\u001b[0;31m:\u001b[0m invalid decimal literal\n"
     ]
    }
   ],
   "source": [
    "45gh = 234"
   ]
  },
  {
   "cell_type": "code",
   "execution_count": 31,
   "id": "d6477718-643d-42dd-9f15-e9310250f298",
   "metadata": {},
   "outputs": [],
   "source": [
    "#45 + 56"
   ]
  },
  {
   "cell_type": "code",
   "execution_count": 32,
   "id": "267133e2-1e9d-45ec-b31b-ce7f73b35dfd",
   "metadata": {},
   "outputs": [],
   "source": [
    "# is used as a comment in python"
   ]
  },
  {
   "cell_type": "code",
   "execution_count": 33,
   "id": "478bf4bb-39cd-4f4e-92e2-8732adffc382",
   "metadata": {},
   "outputs": [],
   "source": [
    "_a = 45"
   ]
  },
  {
   "cell_type": "code",
   "execution_count": 34,
   "id": "12c0ebfb-295d-4bba-882b-abf4433f1565",
   "metadata": {},
   "outputs": [
    {
     "data": {
      "text/plain": [
       "45"
      ]
     },
     "execution_count": 34,
     "metadata": {},
     "output_type": "execute_result"
    }
   ],
   "source": [
    "_a"
   ]
  },
  {
   "cell_type": "code",
   "execution_count": 35,
   "id": "6df22e53-6c84-4f05-88a3-9505d5e93eec",
   "metadata": {},
   "outputs": [
    {
     "data": {
      "text/plain": [
       "(6+7j)"
      ]
     },
     "execution_count": 35,
     "metadata": {},
     "output_type": "execute_result"
    }
   ],
   "source": [
    "e"
   ]
  },
  {
   "cell_type": "code",
   "execution_count": 36,
   "id": "de2860ae-96b0-439f-ad57-f93a644d3ece",
   "metadata": {},
   "outputs": [
    {
     "data": {
      "text/plain": [
       "7.0"
      ]
     },
     "execution_count": 36,
     "metadata": {},
     "output_type": "execute_result"
    }
   ],
   "source": [
    "e.imag"
   ]
  },
  {
   "cell_type": "code",
   "execution_count": 37,
   "id": "e23d7ea4-011c-4270-91d9-1bcf81fd7e1c",
   "metadata": {},
   "outputs": [
    {
     "data": {
      "text/plain": [
       "6.0"
      ]
     },
     "execution_count": 37,
     "metadata": {},
     "output_type": "execute_result"
    }
   ],
   "source": [
    "e.real"
   ]
  },
  {
   "cell_type": "code",
   "execution_count": 38,
   "id": "d5f090ad-4df5-49b2-9264-156c5085592a",
   "metadata": {},
   "outputs": [
    {
     "data": {
      "text/plain": [
       "<function complex.conjugate()>"
      ]
     },
     "execution_count": 38,
     "metadata": {},
     "output_type": "execute_result"
    }
   ],
   "source": [
    "e.conjugate"
   ]
  },
  {
   "cell_type": "code",
   "execution_count": null,
   "id": "9ee1da42-5423-44b0-ace4-d1a7541d2ee5",
   "metadata": {},
   "outputs": [],
   "source": []
  }
 ],
 "metadata": {
  "kernelspec": {
   "display_name": "Python 3 (ipykernel)",
   "language": "python",
   "name": "python3"
  },
  "language_info": {
   "codemirror_mode": {
    "name": "ipython",
    "version": 3
   },
   "file_extension": ".py",
   "mimetype": "text/x-python",
   "name": "python",
   "nbconvert_exporter": "python",
   "pygments_lexer": "ipython3",
   "version": "3.10.8"
  }
 },
 "nbformat": 4,
 "nbformat_minor": 5
}
